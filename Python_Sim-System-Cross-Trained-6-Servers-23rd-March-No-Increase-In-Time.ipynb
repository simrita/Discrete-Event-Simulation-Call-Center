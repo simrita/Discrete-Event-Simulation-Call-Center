{
 "cells": [
  {
   "cell_type": "code",
   "execution_count": 60,
   "metadata": {},
   "outputs": [],
   "source": [
    "import numpy as np\n",
    "import math\n",
    "import scipy.stats"
   ]
  },
  {
   "cell_type": "markdown",
   "metadata": {},
   "source": [
    "# 0. Load Utilities"
   ]
  },
  {
   "cell_type": "code",
   "execution_count": 61,
   "metadata": {},
   "outputs": [],
   "source": [
    "Clock = 0\n"
   ]
  },
  {
   "cell_type": "code",
   "execution_count": 62,
   "metadata": {},
   "outputs": [],
   "source": [
    "class DTStat():\n",
    "    # Generic discrete-time statistics object\n",
    "\n",
    "    def __init__(self):\n",
    "        # Excecutes when the DTStat object is created to initialize variables\n",
    "        self.Sum = 0.0\n",
    "        self.SumSquared = 0.0\n",
    "        self.NumberOfObservations = 0.0\n",
    "    \n",
    "    def Record(self,X):\n",
    "        # Update the DTStat\n",
    "        self.Sum = self.Sum + X\n",
    "        self.SumSquared = self.SumSquared + X * X\n",
    "        self.NumberOfObservations = self.NumberOfObservations + 1\n",
    "        \n",
    "    def Mean(self):\n",
    "        # Return the sample mean\n",
    "        mean = 0.0\n",
    "        if self.NumberOfObservations > 0.0:\n",
    "            mean = self.Sum / self.NumberOfObservations\n",
    "        return mean\n",
    "\n",
    "    def StdDev(self):\n",
    "        # Return the sample standard deviation\n",
    "        stddev = 0.0\n",
    "        if self.NumberOfObservations > 1.0:\n",
    "            stddev = math.sqrt((self.SumSquared - self.Sum**2 / self.NumberOfObservations) / (self.NumberOfObservations - 1))\n",
    "        return stddev\n",
    "            \n",
    "    def N(self):\n",
    "        # Return the number of observations collected\n",
    "        return self.NumberOfObservations\n",
    "    \n",
    "    def Clear(self):\n",
    "        # Clear statistics\n",
    "        self.Sum = 0.0\n",
    "        self.SumSquared = 0.0\n",
    "        self.NumberOfObservations = 0.0"
   ]
  },
  {
   "cell_type": "code",
   "execution_count": 63,
   "metadata": {},
   "outputs": [],
   "source": [
    "class CTStat():\n",
    "    # Generic continuous-time statistics object\n",
    "    # Note that CTStat should be called AFTER the value of the variable changes\n",
    "\n",
    "    def __init__(self):\n",
    "        # Excecuted when the CTStat object is created to initialize variables\n",
    "        self.Area = 0.0\n",
    "        self.Tlast = 0.0\n",
    "        self.TClear = 0.0\n",
    "        self.Xlast = 0.0\n",
    "        \n",
    "    def Record(self,X):\n",
    "        # Update the CTStat from the last time change and keep track of previous value\n",
    "        self.Area = self.Area + self.Xlast * (Clock - self.Tlast)\n",
    "        self.Tlast = Clock\n",
    "        self.Xlast = X\n",
    "\n",
    "    def Mean(self):\n",
    "        # Return the sample mean up through the current time but do not update\n",
    "        mean = 0.0\n",
    "        if (Clock - self.TClear) > 0.0:\n",
    "            mean = (self.Area + self.Xlast * (Clock - self.Tlast)) / (Clock - self.TClear)\n",
    "        return mean\n",
    "    \n",
    "    def Clear(self):\n",
    "        # Clear statistics\n",
    "        self.Area = 0.0\n",
    "        self.Tlast = Clock\n",
    "        self.TClear = Clock"
   ]
  },
  {
   "cell_type": "markdown",
   "metadata": {},
   "source": [
    "# 1. Parameters for Simulation"
   ]
  },
  {
   "cell_type": "code",
   "execution_count": 64,
   "metadata": {},
   "outputs": [],
   "source": [
    "meanArrival = 1 # mean of arrival time distribution (Exponential)\n",
    "k_fin= 2 # shape parameter for service time distribution (Gamma)\n",
    "k_con= 3\n",
    "meanService = 5\n",
    "scale_fin = meanService/k_fin\n",
    "scale_con = meanService/k_con\n",
    "prob_fin=0.59\n",
    "prob_renege=0.06\n",
    "n_servers=6### Number of cross trained Servers. We will change this to see the performance under different number of servers"
   ]
  },
  {
   "cell_type": "markdown",
   "metadata": {},
   "source": [
    "# 2. Set up stats"
   ]
  },
  {
   "cell_type": "code",
   "execution_count": 65,
   "metadata": {},
   "outputs": [],
   "source": [
    "Wait= DTStat()\n",
    "Wait_fin= DTStat()\n",
    "Wait_con= DTStat()"
   ]
  },
  {
   "cell_type": "markdown",
   "metadata": {},
   "source": [
    "# 3. Set up servers"
   ]
  },
  {
   "cell_type": "code",
   "execution_count": 66,
   "metadata": {},
   "outputs": [],
   "source": [
    "class Resource():\n",
    "    # This is a generic Resource object that also keeps track of statistics\n",
    "    # on number of busy resources\n",
    "\n",
    "    def __init__(self):\n",
    "        # Executes when the resource object is created to initialize variables\n",
    "        # and add number of busy Resources statistic to TheCTStats list\n",
    "        self.Busy = 0\n",
    "        self.NumberOfUnits = 0\n",
    "        self.NumBusy = CTStat()\n",
    "        \n",
    "    def Seize(self, Units):\n",
    "        # Seize Units of resource then update statistics\n",
    "        # Returns False and does not seize if not enouge resources available;\n",
    "        # otherwise returns True\n",
    "        diff = self.NumberOfUnits - Units - self.Busy\n",
    "        if diff >= 0:\n",
    "            # If diff is nonnegative, then there are enough resources to seize\n",
    "            self.Busy = self.Busy + Units\n",
    "            self.NumBusy.Record(float(self.Busy))\n",
    "            seize = True\n",
    "        else:\n",
    "            seize = False\n",
    "        return seize\n",
    "        \n",
    "    def Free(self, Units):\n",
    "        # Frees Units of resource then update statistics\n",
    "        # Returns False and does not free if attempting to free more resources than available;\n",
    "        # otherwise returns True\n",
    "        diff = self.Busy - Units\n",
    "        # If diff is negative, then trying to free too many resources\n",
    "        if diff < 0:\n",
    "            free = False\n",
    "        else:\n",
    "            self.Busy = self.Busy - Units\n",
    "            self.NumBusy.Record(float(self.Busy))\n",
    "            free = True\n",
    "        return free\n",
    "    \n",
    "    def Mean(self):\n",
    "        # Returtime-average number of busy resources up to current time\n",
    "        return self.NumBusy.Mean()\n",
    "        \n",
    "    def SetUnits(self, Units):\n",
    "        # Set the capacity of the resource (number of identical units)\n",
    "        self.NumberOfUnits = Units\n",
    "        \n",
    "    def Inspect(self):\n",
    "        # return number of free server(s)\n",
    "        return self.NumberOfUnits - self.Busy"
   ]
  },
  {
   "cell_type": "code",
   "execution_count": 67,
   "metadata": {},
   "outputs": [],
   "source": [
    "Server = Resource()\n",
    "Server.SetUnits (n_servers) \n"
   ]
  },
  {
   "cell_type": "markdown",
   "metadata": {},
   "source": [
    "# 4. Set up queue"
   ]
  },
  {
   "cell_type": "code",
   "execution_count": 68,
   "metadata": {},
   "outputs": [],
   "source": [
    "class FIFOQueue():\n",
    "    # This is a generic FIFO Queue object that also keeps track\n",
    "    # of statistics on the number in the queue (WIP)\n",
    "\n",
    "    def __init__(self):\n",
    "        # Executes when the FIFOQueue object is created to add queue statistics\n",
    "        # to TheCTStats list\n",
    "        self.WIP = CTStat()\n",
    "        self.ThisQueue = []\n",
    "        \n",
    "    def NumQueue(self):\n",
    "        # Return current number in the queue\n",
    "        return len(self.ThisQueue)\n",
    "        \n",
    "    def Add(self,X):\n",
    "        # Add an entity to the end of the queue\n",
    "        self.ThisQueue.append(X)\n",
    "        numqueue = self.NumQueue()\n",
    "        self.WIP.Record(float(numqueue))    \n",
    "    \n",
    "    def Remove(self):\n",
    "        # Remove the first entity from the queue and return the object\n",
    "        # after updating the queue statistics\n",
    "        if len(self.ThisQueue) > 0:\n",
    "            remove = self.ThisQueue.pop(0)\n",
    "            self.WIP.Record(float(self.NumQueue()))\n",
    "            return remove\n",
    "        \n",
    "    def Mean(self):\n",
    "        # Return the average number in queue up to the current time\n",
    "        return self.WIP.Mean()"
   ]
  },
  {
   "cell_type": "code",
   "execution_count": 69,
   "metadata": {},
   "outputs": [],
   "source": [
    "Queue = FIFOQueue()\n"
   ]
  },
  {
   "cell_type": "code",
   "execution_count": 70,
   "metadata": {},
   "outputs": [],
   "source": [
    "class CountTracking():\n",
    "    # This is a generic list keeping track of arrivals/reneges\n",
    "    \n",
    "    def __init__(self):\n",
    "        # Executes when the FIFOQueue object is created to add queue statistics\n",
    "        # to TheCTStats list\n",
    "        self.Tracks = []\n",
    "        \n",
    "    def Add(self):\n",
    "        self.Tracks.append(1)\n",
    "        \n",
    "    \n",
    "    def Total(self):\n",
    "        # Return current number in the queue\n",
    "        return len(self.Tracks)"
   ]
  },
  {
   "cell_type": "code",
   "execution_count": 71,
   "metadata": {},
   "outputs": [],
   "source": [
    "# run this cell to reset after the exercise\n",
    "Clock = 0\n",
    "total_arrivals = CountTracking()\n",
    "total_reneges = CountTracking()"
   ]
  },
  {
   "cell_type": "markdown",
   "metadata": {},
   "source": [
    "# 5. Set up calendar"
   ]
  },
  {
   "cell_type": "code",
   "execution_count": 72,
   "metadata": {},
   "outputs": [],
   "source": [
    "class EventNotice():\n",
    "    # This is the generic EventNotice object with EventTime, EventType and \n",
    "    # WhichObject attributes\n",
    "    # Add additional problem-specific attributes here\n",
    "    def __init__(self):\n",
    "        self.EventTime = 0.0\n",
    "        self.EventType = \"\"\n",
    "        self.WhichObject = ()"
   ]
  },
  {
   "cell_type": "code",
   "execution_count": 73,
   "metadata": {},
   "outputs": [],
   "source": [
    "class EventCalendar():\n",
    "    # This class creates an EventCalendar object which is a list of\n",
    "    # EventNotices ordered by time. Based on an object created by Steve Roberts.\n",
    "\n",
    "    def __init__(self):\n",
    "        self.ThisCalendar = []   \n",
    "    def Schedule(self,addedEvent):\n",
    "        # Add EventNotice in EventTime order\n",
    "        if len(self.ThisCalendar) == 0:  #no events in calendar\n",
    "            self.ThisCalendar.append(addedEvent)\n",
    "        elif self.ThisCalendar[-1].EventTime <= addedEvent.EventTime:\n",
    "            self.ThisCalendar.append(addedEvent)\n",
    "        else:\n",
    "            for rep in range(0,len(self.ThisCalendar),1):\n",
    "                if self.ThisCalendar[rep].EventTime > addedEvent.EventTime:\n",
    "                    break\n",
    "            self.ThisCalendar.insert(rep,addedEvent)\n",
    "    \n",
    "    def Remove(self):\n",
    "        # Remove next event and return the EventNotice object\n",
    "        if len(self.ThisCalendar) > 0:\n",
    "            return self.ThisCalendar.pop(0)\n",
    "        \n",
    "    def N(self):\n",
    "        # Return current number of events on the event calendar\n",
    "        return len(self.ThisCalendar)"
   ]
  },
  {
   "cell_type": "code",
   "execution_count": 74,
   "metadata": {},
   "outputs": [],
   "source": [
    "# run this cell to reset after the exercise\n",
    "Calendar = EventCalendar()"
   ]
  },
  {
   "cell_type": "markdown",
   "metadata": {},
   "source": [
    "# 6. Defining the Arrival and Service Functions"
   ]
  },
  {
   "cell_type": "code",
   "execution_count": 75,
   "metadata": {},
   "outputs": [],
   "source": [
    "class Entity():\n",
    "    # This is the generic Entity that has a single attribute CreateTime\n",
    "    def __init__(self):\n",
    "        # Executes with the Entity object is created to initialize variables\n",
    "        # Add additional problem-specific attributes here\n",
    "        self.CreateTime = Clock\n",
    "        self.Type=\"\"### Type of Customer- Fin or Con"
   ]
  },
  {
   "cell_type": "code",
   "execution_count": 76,
   "metadata": {},
   "outputs": [],
   "source": [
    "def Arrival():\n",
    "    total_arrivals.Add()\n",
    "    Schedule(Calendar,EventType = 'Arrival', EventTime = np.random.exponential( meanArrival ))\n",
    "    u=np.random.uniform(low=0,high=1)\n",
    "    if u <= prob_fin :\n",
    "        if Server.Busy < n_servers:\n",
    "            Server.Seize(1) # If not busy, the server would be occupied now (by calling Seize method).\n",
    "            Wait.Record(0)\n",
    "            Wait_fin.Record(0)\n",
    "            Schedule(Calendar, EventType = 'EndOfService', EventTime = (np.random.gamma(shape = k_fin, scale = scale_fin)))\n",
    "        else :\n",
    "            ren=np.random.uniform(low=0,high=1)\n",
    "            if ren > prob_renege:\n",
    "                Customer = Entity()\n",
    "                Customer.Type = \"Fin\"\n",
    "                Queue.Add(Customer)\n",
    "            else :\n",
    "                total_reneges.Add()\n",
    "        \n",
    "    else:\n",
    "        if Server.Busy < n_servers:\n",
    "            Server.Seize(1) # If not busy, the server would be occupied now (by calling Seize method).\n",
    "            Wait.Record(0)\n",
    "            Wait_con.Record(0)\n",
    "            Schedule(Calendar, EventType = 'EndOfService', EventTime = (np.random.gamma(shape = k_con, scale = scale_con)))\n",
    "        else :\n",
    "            ren=np.random.uniform(low=0,high=1)\n",
    "            if ren > prob_renege:\n",
    "                Customer = Entity()\n",
    "                Customer.Type = \"Con\"\n",
    "                Queue.Add(Customer)\n",
    "            else :\n",
    "                total_reneges.Add()"
   ]
  },
  {
   "cell_type": "code",
   "execution_count": 77,
   "metadata": {},
   "outputs": [],
   "source": [
    "def Schedule(calendar,EventType, EventTime):\n",
    "    #Schedule future events of EventType to occur at time SimClasses.Clock + EventTime\n",
    "    \n",
    "    addedEvent = EventNotice()\n",
    "    addedEvent.EventType = EventType\n",
    "    addedEvent.EventTime = Clock + EventTime\n",
    "    # print(\"SimClasses.Clock is %f\" % SimClasses.Clock)\n",
    "    # print(EventTime)\n",
    "    calendar.Schedule(addedEvent)"
   ]
  },
  {
   "cell_type": "code",
   "execution_count": 78,
   "metadata": {},
   "outputs": [],
   "source": [
    "def EndOfService():\n",
    "    ### If there is someone in the queue we serve them, else we free the server\n",
    "    if Queue.NumQueue() > 0:\n",
    "        DepartingCustomer = Queue.Remove()\n",
    "        Wait.Record( Clock - DepartingCustomer.CreateTime )\n",
    "        if DepartingCustomer.Type == \"Fin\" :\n",
    "            Wait_fin.Record( Clock - DepartingCustomer.CreateTime )\n",
    "            Schedule(Calendar, EventType='EndOfService', EventTime=(np.random.gamma(shape = k_fin, scale = scale_fin)))\n",
    "        elif DepartingCustomer.Type == \"Con\" :\n",
    "            Wait_con.Record( Clock - DepartingCustomer.CreateTime )\n",
    "            Schedule(Calendar, EventType='EndOfService', EventTime=(np.random.gamma(shape = k_con, scale = scale_con)))\n",
    "    else:\n",
    "        Server.Free(1)"
   ]
  },
  {
   "cell_type": "markdown",
   "metadata": {},
   "source": [
    "# 7. run simulation"
   ]
  },
  {
   "cell_type": "code",
   "execution_count": 79,
   "metadata": {},
   "outputs": [],
   "source": [
    "# no need to look into the function for now.\n",
    "# just know that all the stats and components will be reinitialized\n",
    "# at the beginning of a simulation trial.\n",
    "\n",
    "def SimFunctionsInit(calendar,queues,ctstats,dtstats,resources):\n",
    "    # Function to initialize SimFunctions.Python\n",
    "    # Typically called before the first replication and between replications\n",
    "    Clock = 0.0\n",
    "    #Emply event calendar\n",
    "    while (calendar.N() > 0):\n",
    "        EV = calendar.Remove()\n",
    "        \n",
    "    #Empty queues\n",
    "    #On first call, append the CStats created by FIFOQueue\n",
    "    for Q in queues:\n",
    "        if Q.WIP not in ctstats:\n",
    "            ctstats.append(Q.WIP)\n",
    "        while Q.NumQueue() > 0:\n",
    "            En = Q.Remove()\n",
    "\n",
    "    #Reinitialize Resources\n",
    "    #On first call, append the CStats created by FIFOQueue and Resource\n",
    "    for Re in resources:\n",
    "        Re.Busy = 0.0\n",
    "        if Re.NumBusy not in ctstats:\n",
    "            ctstats.append(Re.NumBusy)  \n",
    "    \n",
    "    #Clear statistics\n",
    "    for CT in ctstats:\n",
    "        CT.Clear()\n",
    "        CT.Xlast = 0.0   # added bln \n",
    "        \n",
    "    for DT in dtstats:\n",
    "        DT.Clear()\n"
   ]
  },
  {
   "cell_type": "code",
   "execution_count": 80,
   "metadata": {},
   "outputs": [],
   "source": [
    "# no need to look into this block.\n",
    "# just some preparations so that SimFunctionsInit defined above can be called.\n",
    "\n",
    "TheCTStats = []\n",
    "TheDTStats = []\n",
    "TheQueues = []\n",
    "TheResources = []\n",
    "TheDTStats.append(Wait)\n",
    "TheDTStats.append(Wait_fin)\n",
    "TheDTStats.append(Wait_con)\n",
    "TheQueues.append(Queue)\n",
    "TheResources.append(Server)\n",
    "AllWaitFinMean = []\n",
    "AllWaitConMean = []\n",
    "AllWaitMean = []\n",
    "AllQueueMean = []\n",
    "AllQueueNum = []\n",
    "AllServerMean = []\n",
    "Arrivals = []\n",
    "Reneges= []\n"
   ]
  },
  {
   "cell_type": "code",
   "execution_count": 81,
   "metadata": {},
   "outputs": [],
   "source": [
    "# For demonstration purpose, let us fix the random seed at this step.\n",
    "np.random.seed(2020)"
   ]
  },
  {
   "cell_type": "code",
   "execution_count": 82,
   "metadata": {},
   "outputs": [],
   "source": [
    "# some parameters for simulation\n",
    "RunLength = 480 # stop the arrivals if Clock reaches 480 minutes\n",
    "Clock=0\n",
    "def mean_confidence_interval(data, confidence=0.95):\n",
    "    a = 1.0 * np.array(data)\n",
    "    n = len(a)\n",
    "    m, se = np.mean(a), scipy.stats.sem(a)\n",
    "    h = se * scipy.stats.t.ppf((1 + confidence) / 2., n-1)\n",
    "    return m, m-h, m+h"
   ]
  },
  {
   "cell_type": "code",
   "execution_count": 83,
   "metadata": {},
   "outputs": [],
   "source": [
    "max_error = 1\n",
    "max_errors = []\n",
    "rep=0\n",
    "while max_error > 0.05:\n",
    "    rep=rep+1\n",
    "    Clock=0\n",
    "    #===============\n",
    "    # Initialization\n",
    "    #===============\n",
    "    SimFunctionsInit(Calendar,TheQueues,TheCTStats,TheDTStats,TheResources)\n",
    "    \n",
    "    # Two events need to be scheduled.\n",
    "    # The first arrival,\n",
    "    # and EndSimulation (so we know when to stop the trial).\n",
    "    Schedule(Calendar,\"Arrival\", np.random.exponential(meanArrival) )\n",
    "    Schedule(Calendar,\"EndArrival\",RunLength)\n",
    "    total_arrivals = CountTracking()\n",
    "    total_reneges = CountTracking()\n",
    "    \n",
    "    #================\n",
    "    # Simulation Loop\n",
    "    #================\n",
    "    # First, fetch the next event from the calendar.\n",
    "    NextEvent = Calendar.Remove()\n",
    "    # Always remember to UPDATE THE CLOCK when jumping to the next event!\n",
    "    Clock = NextEvent.EventTime\n",
    "    \n",
    "    # Then, depending on the type of the event, call the functions we wrote accordingly.\n",
    "    if NextEvent.EventType == \"Arrival\":\n",
    "        Arrival()\n",
    "    elif NextEvent.EventType == \"EndOfService\":\n",
    "        EndOfService()\n",
    "    # the loop: as long as we have not reached the end of simulation,\n",
    "    # repeat the procedure above.\n",
    "    while NextEvent.EventType != \"EndArrival\":\n",
    "        NextEvent = Calendar.Remove()\n",
    "        Clock = NextEvent.EventTime\n",
    "        if NextEvent.EventType == \"Arrival\":\n",
    "            Arrival()\n",
    "        elif NextEvent.EventType == \"EndOfService\":\n",
    "            EndOfService()\n",
    "        # finish the remaining service\n",
    "    while len(Calendar.ThisCalendar) !=0:\n",
    "        NextEvent = Calendar.Remove()\n",
    "        if NextEvent.EventType == \"EndOfService\":\n",
    "            Clock = NextEvent.EventTime\n",
    "            EndOfService()\n",
    "    #=============\n",
    "    # Report Stats\n",
    "    #=============\n",
    "    AllWaitMean.append(Wait.Mean())\n",
    "    AllWaitFinMean.append(Wait_fin.Mean())\n",
    "    AllWaitConMean.append(Wait_con.Mean())\n",
    "    AllQueueMean.append(Queue.Mean())\n",
    "    AllQueueNum.append(Queue.NumQueue())\n",
    "    AllServerMean.append(Server.Mean())\n",
    "    Arrivals.append(total_arrivals.Total())\n",
    "    Reneges.append(total_reneges.Total())\n",
    "    if rep >= 2:\n",
    "        error_wait=(mean_confidence_interval(AllWaitMean, confidence=0.95)[0]-mean_confidence_interval(AllWaitMean, confidence=0.95)[1])/mean_confidence_interval(AllWaitMean, confidence=0.95)[0]\n",
    "        error_queue=(mean_confidence_interval(AllQueueMean, confidence=0.95)[0]-mean_confidence_interval(AllQueueMean, confidence=0.95)[1])/mean_confidence_interval(AllQueueMean, confidence=0.95)[0]\n",
    "        error_reneges=(mean_confidence_interval(Reneges, confidence=0.95)[0]-mean_confidence_interval(Reneges, confidence=0.95)[1])/mean_confidence_interval(Reneges, confidence=0.95)[0]\n",
    "        max_error=max(error_wait,error_wait,error_reneges)\n",
    "        max_errors.append(max_error)"
   ]
  },
  {
   "cell_type": "markdown",
   "metadata": {},
   "source": [
    "# 7. View The Results"
   ]
  },
  {
   "cell_type": "code",
   "execution_count": 84,
   "metadata": {},
   "outputs": [
    {
     "data": {
      "text/plain": [
       "(14.583864118895965, 14.148500529433509, 15.019227708358422)"
      ]
     },
     "execution_count": 84,
     "metadata": {},
     "output_type": "execute_result"
    }
   ],
   "source": [
    "mean_confidence_interval(Reneges)"
   ]
  },
  {
   "cell_type": "code",
   "execution_count": 85,
   "metadata": {},
   "outputs": [
    {
     "data": {
      "text/plain": [
       "471"
      ]
     },
     "execution_count": 85,
     "metadata": {},
     "output_type": "execute_result"
    }
   ],
   "source": [
    "rep"
   ]
  },
  {
   "cell_type": "code",
   "execution_count": 86,
   "metadata": {},
   "outputs": [
    {
     "data": {
      "text/plain": [
       "(1.346983349940515, 1.2797382615520259, 1.4142284383290042)"
      ]
     },
     "execution_count": 86,
     "metadata": {},
     "output_type": "execute_result"
    }
   ],
   "source": [
    "mean_confidence_interval(AllWaitMean)"
   ]
  },
  {
   "cell_type": "code",
   "execution_count": 87,
   "metadata": {},
   "outputs": [
    {
     "data": {
      "text/plain": [
       "(1.3468486820447445, 1.279941652111202, 1.413755711978287)"
      ]
     },
     "execution_count": 87,
     "metadata": {},
     "output_type": "execute_result"
    }
   ],
   "source": [
    "mean_confidence_interval(AllWaitFinMean)"
   ]
  },
  {
   "cell_type": "code",
   "execution_count": 88,
   "metadata": {},
   "outputs": [
    {
     "data": {
      "text/plain": [
       "(1.3474148299093724, 1.278094354234062, 1.416735305584683)"
      ]
     },
     "execution_count": 88,
     "metadata": {},
     "output_type": "execute_result"
    }
   ],
   "source": [
    "mean_confidence_interval(AllWaitConMean)"
   ]
  },
  {
   "cell_type": "code",
   "execution_count": 89,
   "metadata": {},
   "outputs": [
    {
     "data": {
      "text/plain": [
       "(1.2993668731484957, 1.2301931082256274, 1.368540638071364)"
      ]
     },
     "execution_count": 89,
     "metadata": {},
     "output_type": "execute_result"
    }
   ],
   "source": [
    "mean_confidence_interval(AllQueueMean)"
   ]
  },
  {
   "cell_type": "code",
   "execution_count": null,
   "metadata": {},
   "outputs": [],
   "source": []
  },
  {
   "cell_type": "code",
   "execution_count": null,
   "metadata": {},
   "outputs": [],
   "source": []
  },
  {
   "cell_type": "code",
   "execution_count": null,
   "metadata": {},
   "outputs": [],
   "source": []
  },
  {
   "cell_type": "code",
   "execution_count": null,
   "metadata": {},
   "outputs": [],
   "source": []
  },
  {
   "cell_type": "code",
   "execution_count": null,
   "metadata": {},
   "outputs": [],
   "source": []
  },
  {
   "cell_type": "code",
   "execution_count": null,
   "metadata": {},
   "outputs": [],
   "source": []
  },
  {
   "cell_type": "code",
   "execution_count": null,
   "metadata": {},
   "outputs": [],
   "source": []
  },
  {
   "cell_type": "code",
   "execution_count": null,
   "metadata": {},
   "outputs": [],
   "source": []
  },
  {
   "cell_type": "code",
   "execution_count": null,
   "metadata": {},
   "outputs": [],
   "source": []
  },
  {
   "cell_type": "code",
   "execution_count": null,
   "metadata": {},
   "outputs": [],
   "source": []
  }
 ],
 "metadata": {
  "kernelspec": {
   "display_name": "Python 3",
   "language": "python",
   "name": "python3"
  },
  "language_info": {
   "codemirror_mode": {
    "name": "ipython",
    "version": 3
   },
   "file_extension": ".py",
   "mimetype": "text/x-python",
   "name": "python",
   "nbconvert_exporter": "python",
   "pygments_lexer": "ipython3",
   "version": "3.7.4"
  }
 },
 "nbformat": 4,
 "nbformat_minor": 2
}
